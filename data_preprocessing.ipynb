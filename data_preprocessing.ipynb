{
 "cells": [
  {
   "cell_type": "code",
   "execution_count": 1,
   "id": "e5a56fb4",
   "metadata": {},
   "outputs": [],
   "source": [
    "import numpy as np\n",
    "import pandas as pd"
   ]
  },
  {
   "cell_type": "code",
   "execution_count": 2,
   "id": "f7671d2f",
   "metadata": {},
   "outputs": [
    {
     "name": "stderr",
     "output_type": "stream",
     "text": [
      "C:\\Users\\DJ\\AppData\\Local\\Temp\\ipykernel_22060\\3708228576.py:1: DtypeWarning: Columns (1) have mixed types. Specify dtype option on import or set low_memory=False.\n",
      "  df = pd.read_csv('ODI_Match_Data.csv')\n"
     ]
    }
   ],
   "source": [
    "df = pd.read_csv('ODI_Match_Data.csv')"
   ]
  },
  {
   "cell_type": "code",
   "execution_count": 3,
   "id": "8ed77aaf",
   "metadata": {},
   "outputs": [
    {
     "data": {
      "text/plain": [
       "Index(['match_id', 'season', 'start_date', 'venue', 'innings', 'ball',\n",
       "       'batting_team', 'bowling_team', 'striker', 'non_striker', 'bowler',\n",
       "       'runs_off_bat', 'extras', 'wides', 'noballs', 'byes', 'legbyes',\n",
       "       'penalty', 'wicket_type', 'player_dismissed', 'other_wicket_type',\n",
       "       'other_player_dismissed', 'cricsheet_id'],\n",
       "      dtype='object')"
      ]
     },
     "execution_count": 3,
     "metadata": {},
     "output_type": "execute_result"
    }
   ],
   "source": [
    "df.columns"
   ]
  },
  {
   "cell_type": "code",
   "execution_count": 4,
   "id": "3c5a67ad",
   "metadata": {},
   "outputs": [],
   "source": [
    "df.drop(columns=['wicket_type','noballs','byes','wides','legbyes','penalty','start_date','season','other_player_dismissed','venue','other_wicket_type','striker','non_striker','bowler'], inplace=True)"
   ]
  },
  {
   "cell_type": "code",
   "execution_count": 5,
   "id": "f0ed079c",
   "metadata": {},
   "outputs": [],
   "source": [
    "teams = ['Australia','New Zeland','England', 'South Africa',\n",
    "       'West Indies', 'Sri Lanka', 'Pakistan', 'India', 'Bangladesh', 'Afghanistan']"
   ]
  },
  {
   "cell_type": "code",
   "execution_count": 6,
   "id": "65449de3",
   "metadata": {},
   "outputs": [],
   "source": [
    "df = df[df['batting_team'].isin(teams)]\n",
    "df = df[df['bowling_team'].isin(teams)]"
   ]
  },
  {
   "cell_type": "code",
   "execution_count": 7,
   "id": "558ff7d3",
   "metadata": {},
   "outputs": [],
   "source": [
    "df['runs'] = df['runs_off_bat']+df['extras']\n",
    "df.drop(columns=['extras'], inplace=True)"
   ]
  },
  {
   "cell_type": "code",
   "execution_count": 8,
   "id": "f2b39d82",
   "metadata": {},
   "outputs": [],
   "source": [
    "df['current_score'] = df.groupby(['match_id','innings'])['runs'].cumsum()"
   ]
  },
  {
   "cell_type": "code",
   "execution_count": 9,
   "id": "dbcd7fd4",
   "metadata": {},
   "outputs": [],
   "source": [
    "df['over'] = df['ball'].apply(lambda x:str(x).split('.')[0])\n",
    "df['ball_no'] = df['ball'].apply(lambda x:str(x).split('.')[1])"
   ]
  },
  {
   "cell_type": "code",
   "execution_count": 10,
   "id": "7c3769d4",
   "metadata": {},
   "outputs": [],
   "source": [
    "df['ball_bowled'] = (df['over'].astype(int)*6) + df['ball_no'].astype(int)\n",
    "df['ball_left'] = 300-df['ball_bowled']\n",
    "df['ball_left'] = df['ball_left'].apply(lambda x:0 if x<0 else x)"
   ]
  },
  {
   "cell_type": "code",
   "execution_count": 11,
   "id": "e84a0c19",
   "metadata": {},
   "outputs": [],
   "source": [
    "df['player_dismissed'] = df['player_dismissed'].fillna('0')\n",
    "df['player_dismissed'] = df['player_dismissed'].apply(lambda x:0 if x=='0' else 1)\n",
    "df['p_d_2'] = df['player_dismissed'].copy()\n",
    "df['player_dismissed'] = df['player_dismissed'].astype(int)\n",
    "df['player_dismissed'] = df.groupby(['match_id','innings'])['player_dismissed'].cumsum()\n",
    "df['wickets_left'] = 10 - df['player_dismissed']"
   ]
  },
  {
   "cell_type": "code",
   "execution_count": 12,
   "id": "31f7771e",
   "metadata": {},
   "outputs": [
    {
     "data": {
      "text/plain": [
       "count    689969.000000\n",
       "mean          7.092951\n",
       "std           2.309771\n",
       "min           0.000000\n",
       "25%           6.000000\n",
       "50%           7.000000\n",
       "75%           9.000000\n",
       "max          10.000000\n",
       "Name: wickets_left, dtype: float64"
      ]
     },
     "execution_count": 12,
     "metadata": {},
     "output_type": "execute_result"
    }
   ],
   "source": [
    "df['wickets_left'].describe()"
   ]
  },
  {
   "cell_type": "code",
   "execution_count": 13,
   "id": "08b1ac07",
   "metadata": {},
   "outputs": [],
   "source": [
    "df['crr'] = (df['current_score']*6)/df['ball_bowled']"
   ]
  },
  {
   "cell_type": "code",
   "execution_count": 14,
   "id": "1f1ff3f5",
   "metadata": {},
   "outputs": [
    {
     "data": {
      "text/plain": [
       "count    689969.000000\n",
       "mean          1.460345\n",
       "std           0.498425\n",
       "min           1.000000\n",
       "25%           1.000000\n",
       "50%           1.000000\n",
       "75%           2.000000\n",
       "max           2.000000\n",
       "Name: innings, dtype: float64"
      ]
     },
     "execution_count": 14,
     "metadata": {},
     "output_type": "execute_result"
    }
   ],
   "source": [
    "df['innings'].describe()"
   ]
  },
  {
   "cell_type": "code",
   "execution_count": 15,
   "id": "a282a1ff",
   "metadata": {},
   "outputs": [],
   "source": [
    "groups = df.groupby(['match_id', 'innings'])\n",
    "\n",
    "last_ten = []\n",
    "for (match_id, inning), group in groups:\n",
    "    last_ten.extend(group['runs'].rolling(window=60).sum().tolist())\n",
    "\n",
    "df['last_ten'] = last_ten"
   ]
  },
  {
   "cell_type": "code",
   "execution_count": 16,
   "id": "88e87439",
   "metadata": {},
   "outputs": [],
   "source": [
    "df = df.groupby(['match_id', 'innings'])['runs'].sum().reset_index().merge(df, on=['match_id','innings'])"
   ]
  },
  {
   "cell_type": "code",
   "execution_count": 17,
   "id": "7007e3bf",
   "metadata": {},
   "outputs": [],
   "source": [
    "df['dot_balls'] = df['runs_y'].apply(lambda x:1 if x==0 else 0)\n",
    "df['boundary'] = df['runs_off_bat'].apply(lambda x:1 if x==4 or x==6 else 0)"
   ]
  },
  {
   "cell_type": "code",
   "execution_count": 18,
   "id": "61cfba00",
   "metadata": {},
   "outputs": [],
   "source": [
    "groups = df.groupby(['match_id', 'innings'])\n",
    "\n",
    "last_ten_dot = []\n",
    "last_ten_boundary = []\n",
    "last_ten_wkts = []\n",
    "for (match_id, inning), group in groups:\n",
    "    last_ten_dot.extend(group['dot_balls'].rolling(window=60).sum().tolist())\n",
    "    last_ten_boundary.extend(group['boundary'].rolling(window=60).sum().tolist())\n",
    "    last_ten_wkts.extend(group['p_d_2'].rolling(window=60).sum().tolist())"
   ]
  },
  {
   "cell_type": "code",
   "execution_count": 19,
   "id": "85dc7175",
   "metadata": {},
   "outputs": [],
   "source": [
    "df['last_ten_dot'] = last_ten_dot\n",
    "df['last_ten_boundary'] = last_ten_boundary\n",
    "df['last_ten_wkts'] = last_ten_wkts"
   ]
  },
  {
   "cell_type": "code",
   "execution_count": 20,
   "id": "a6170719",
   "metadata": {},
   "outputs": [
    {
     "name": "stderr",
     "output_type": "stream",
     "text": [
      "C:\\Users\\DJ\\AppData\\Local\\Temp\\ipykernel_22060\\485427035.py:2: SettingWithCopyWarning: \n",
      "A value is trying to be set on a copy of a slice from a DataFrame\n",
      "\n",
      "See the caveats in the documentation: https://pandas.pydata.org/pandas-docs/stable/user_guide/indexing.html#returning-a-view-versus-a-copy\n",
      "  df.dropna(inplace=True)\n"
     ]
    }
   ],
   "source": [
    "df=df[['innings','batting_team','bowling_team','current_score','ball_bowled','crr','ball_left','wickets_left','last_ten','last_ten_dot','last_ten_boundary','last_ten_wkts','runs_x']]\n",
    "df.dropna(inplace=True)"
   ]
  },
  {
   "cell_type": "code",
   "execution_count": 21,
   "id": "55952877",
   "metadata": {},
   "outputs": [
    {
     "data": {
      "text/html": [
       "<div>\n",
       "<style scoped>\n",
       "    .dataframe tbody tr th:only-of-type {\n",
       "        vertical-align: middle;\n",
       "    }\n",
       "\n",
       "    .dataframe tbody tr th {\n",
       "        vertical-align: top;\n",
       "    }\n",
       "\n",
       "    .dataframe thead th {\n",
       "        text-align: right;\n",
       "    }\n",
       "</style>\n",
       "<table border=\"1\" class=\"dataframe\">\n",
       "  <thead>\n",
       "    <tr style=\"text-align: right;\">\n",
       "      <th></th>\n",
       "      <th>innings</th>\n",
       "      <th>batting_team</th>\n",
       "      <th>bowling_team</th>\n",
       "      <th>current_score</th>\n",
       "      <th>ball_bowled</th>\n",
       "      <th>crr</th>\n",
       "      <th>ball_left</th>\n",
       "      <th>wickets_left</th>\n",
       "      <th>last_ten</th>\n",
       "      <th>last_ten_dot</th>\n",
       "      <th>last_ten_boundary</th>\n",
       "      <th>last_ten_wkts</th>\n",
       "      <th>runs_x</th>\n",
       "    </tr>\n",
       "  </thead>\n",
       "  <tbody>\n",
       "    <tr>\n",
       "      <th>59</th>\n",
       "      <td>1</td>\n",
       "      <td>Australia</td>\n",
       "      <td>West Indies</td>\n",
       "      <td>47</td>\n",
       "      <td>54</td>\n",
       "      <td>5.222222</td>\n",
       "      <td>246</td>\n",
       "      <td>8</td>\n",
       "      <td>31.0</td>\n",
       "      <td>33.0</td>\n",
       "      <td>5.0</td>\n",
       "      <td>2.0</td>\n",
       "      <td>270</td>\n",
       "    </tr>\n",
       "    <tr>\n",
       "      <th>60</th>\n",
       "      <td>1</td>\n",
       "      <td>Australia</td>\n",
       "      <td>West Indies</td>\n",
       "      <td>47</td>\n",
       "      <td>55</td>\n",
       "      <td>5.127273</td>\n",
       "      <td>245</td>\n",
       "      <td>8</td>\n",
       "      <td>31.0</td>\n",
       "      <td>33.0</td>\n",
       "      <td>5.0</td>\n",
       "      <td>2.0</td>\n",
       "      <td>270</td>\n",
       "    </tr>\n",
       "    <tr>\n",
       "      <th>61</th>\n",
       "      <td>1</td>\n",
       "      <td>Australia</td>\n",
       "      <td>West Indies</td>\n",
       "      <td>48</td>\n",
       "      <td>56</td>\n",
       "      <td>5.142857</td>\n",
       "      <td>244</td>\n",
       "      <td>8</td>\n",
       "      <td>30.0</td>\n",
       "      <td>32.0</td>\n",
       "      <td>5.0</td>\n",
       "      <td>2.0</td>\n",
       "      <td>270</td>\n",
       "    </tr>\n",
       "    <tr>\n",
       "      <th>62</th>\n",
       "      <td>1</td>\n",
       "      <td>Australia</td>\n",
       "      <td>West Indies</td>\n",
       "      <td>48</td>\n",
       "      <td>57</td>\n",
       "      <td>5.052632</td>\n",
       "      <td>243</td>\n",
       "      <td>8</td>\n",
       "      <td>31.0</td>\n",
       "      <td>33.0</td>\n",
       "      <td>5.0</td>\n",
       "      <td>2.0</td>\n",
       "      <td>270</td>\n",
       "    </tr>\n",
       "    <tr>\n",
       "      <th>63</th>\n",
       "      <td>1</td>\n",
       "      <td>Australia</td>\n",
       "      <td>West Indies</td>\n",
       "      <td>50</td>\n",
       "      <td>58</td>\n",
       "      <td>5.172414</td>\n",
       "      <td>242</td>\n",
       "      <td>8</td>\n",
       "      <td>30.0</td>\n",
       "      <td>33.0</td>\n",
       "      <td>5.0</td>\n",
       "      <td>2.0</td>\n",
       "      <td>270</td>\n",
       "    </tr>\n",
       "  </tbody>\n",
       "</table>\n",
       "</div>"
      ],
      "text/plain": [
       "    innings batting_team bowling_team  current_score  ball_bowled       crr  \\\n",
       "59        1    Australia  West Indies             47           54  5.222222   \n",
       "60        1    Australia  West Indies             47           55  5.127273   \n",
       "61        1    Australia  West Indies             48           56  5.142857   \n",
       "62        1    Australia  West Indies             48           57  5.052632   \n",
       "63        1    Australia  West Indies             50           58  5.172414   \n",
       "\n",
       "    ball_left  wickets_left  last_ten  last_ten_dot  last_ten_boundary  \\\n",
       "59        246             8      31.0          33.0                5.0   \n",
       "60        245             8      31.0          33.0                5.0   \n",
       "61        244             8      30.0          32.0                5.0   \n",
       "62        243             8      31.0          33.0                5.0   \n",
       "63        242             8      30.0          33.0                5.0   \n",
       "\n",
       "    last_ten_wkts  runs_x  \n",
       "59            2.0     270  \n",
       "60            2.0     270  \n",
       "61            2.0     270  \n",
       "62            2.0     270  \n",
       "63            2.0     270  "
      ]
     },
     "execution_count": 21,
     "metadata": {},
     "output_type": "execute_result"
    }
   ],
   "source": [
    "df.head()"
   ]
  },
  {
   "cell_type": "code",
   "execution_count": 22,
   "id": "45eb331b",
   "metadata": {},
   "outputs": [
    {
     "data": {
      "text/plain": [
       "innings             -0.235931\n",
       "current_score        0.435845\n",
       "ball_bowled          0.176432\n",
       "crr                  0.596651\n",
       "ball_left           -0.176429\n",
       "wickets_left         0.280142\n",
       "last_ten            -0.035205\n",
       "last_ten_dot        -0.524111\n",
       "last_ten_boundary    0.339835\n",
       "last_ten_wkts       -0.228268\n",
       "runs_x               1.000000\n",
       "Name: runs_x, dtype: float64"
      ]
     },
     "execution_count": 22,
     "metadata": {},
     "output_type": "execute_result"
    }
   ],
   "source": [
    "df.corr(numeric_only=True)['runs_x']"
   ]
  },
  {
   "cell_type": "code",
   "execution_count": 23,
   "id": "0b3f63b0",
   "metadata": {},
   "outputs": [
    {
     "data": {
      "text/html": [
       "<div>\n",
       "<style scoped>\n",
       "    .dataframe tbody tr th:only-of-type {\n",
       "        vertical-align: middle;\n",
       "    }\n",
       "\n",
       "    .dataframe tbody tr th {\n",
       "        vertical-align: top;\n",
       "    }\n",
       "\n",
       "    .dataframe thead th {\n",
       "        text-align: right;\n",
       "    }\n",
       "</style>\n",
       "<table border=\"1\" class=\"dataframe\">\n",
       "  <thead>\n",
       "    <tr style=\"text-align: right;\">\n",
       "      <th></th>\n",
       "      <th>innings</th>\n",
       "      <th>current_score</th>\n",
       "      <th>ball_bowled</th>\n",
       "      <th>crr</th>\n",
       "      <th>ball_left</th>\n",
       "      <th>wickets_left</th>\n",
       "      <th>last_ten</th>\n",
       "      <th>last_ten_dot</th>\n",
       "      <th>last_ten_boundary</th>\n",
       "      <th>last_ten_wkts</th>\n",
       "      <th>runs_x</th>\n",
       "    </tr>\n",
       "  </thead>\n",
       "  <tbody>\n",
       "    <tr>\n",
       "      <th>count</th>\n",
       "      <td>425944.000000</td>\n",
       "      <td>425944.000000</td>\n",
       "      <td>425944.000000</td>\n",
       "      <td>425944.000000</td>\n",
       "      <td>425944.000000</td>\n",
       "      <td>425944.000000</td>\n",
       "      <td>425944.000000</td>\n",
       "      <td>425944.000000</td>\n",
       "      <td>425944.000000</td>\n",
       "      <td>425944.000000</td>\n",
       "      <td>425944.000000</td>\n",
       "    </tr>\n",
       "    <tr>\n",
       "      <th>mean</th>\n",
       "      <td>1.451881</td>\n",
       "      <td>139.103955</td>\n",
       "      <td>169.633886</td>\n",
       "      <td>4.872503</td>\n",
       "      <td>130.366623</td>\n",
       "      <td>6.440098</td>\n",
       "      <td>50.135577</td>\n",
       "      <td>30.047462</td>\n",
       "      <td>4.811623</td>\n",
       "      <td>1.355051</td>\n",
       "      <td>246.450733</td>\n",
       "    </tr>\n",
       "    <tr>\n",
       "      <th>std</th>\n",
       "      <td>0.497680</td>\n",
       "      <td>66.449152</td>\n",
       "      <td>67.272752</td>\n",
       "      <td>1.082916</td>\n",
       "      <td>67.271760</td>\n",
       "      <td>2.196893</td>\n",
       "      <td>15.070068</td>\n",
       "      <td>7.649626</td>\n",
       "      <td>2.883729</td>\n",
       "      <td>1.162630</td>\n",
       "      <td>60.267883</td>\n",
       "    </tr>\n",
       "    <tr>\n",
       "      <th>min</th>\n",
       "      <td>1.000000</td>\n",
       "      <td>7.000000</td>\n",
       "      <td>50.000000</td>\n",
       "      <td>0.608696</td>\n",
       "      <td>0.000000</td>\n",
       "      <td>0.000000</td>\n",
       "      <td>6.000000</td>\n",
       "      <td>3.000000</td>\n",
       "      <td>0.000000</td>\n",
       "      <td>0.000000</td>\n",
       "      <td>43.000000</td>\n",
       "    </tr>\n",
       "    <tr>\n",
       "      <th>25%</th>\n",
       "      <td>1.000000</td>\n",
       "      <td>85.000000</td>\n",
       "      <td>111.000000</td>\n",
       "      <td>4.139241</td>\n",
       "      <td>75.000000</td>\n",
       "      <td>5.000000</td>\n",
       "      <td>40.000000</td>\n",
       "      <td>25.000000</td>\n",
       "      <td>3.000000</td>\n",
       "      <td>0.000000</td>\n",
       "      <td>209.000000</td>\n",
       "    </tr>\n",
       "    <tr>\n",
       "      <th>50%</th>\n",
       "      <td>1.000000</td>\n",
       "      <td>131.000000</td>\n",
       "      <td>168.000000</td>\n",
       "      <td>4.813953</td>\n",
       "      <td>132.000000</td>\n",
       "      <td>7.000000</td>\n",
       "      <td>49.000000</td>\n",
       "      <td>30.000000</td>\n",
       "      <td>4.000000</td>\n",
       "      <td>1.000000</td>\n",
       "      <td>248.000000</td>\n",
       "    </tr>\n",
       "    <tr>\n",
       "      <th>75%</th>\n",
       "      <td>2.000000</td>\n",
       "      <td>184.000000</td>\n",
       "      <td>225.000000</td>\n",
       "      <td>5.536481</td>\n",
       "      <td>189.000000</td>\n",
       "      <td>8.000000</td>\n",
       "      <td>59.000000</td>\n",
       "      <td>35.000000</td>\n",
       "      <td>6.000000</td>\n",
       "      <td>2.000000</td>\n",
       "      <td>287.000000</td>\n",
       "    </tr>\n",
       "    <tr>\n",
       "      <th>max</th>\n",
       "      <td>2.000000</td>\n",
       "      <td>460.000000</td>\n",
       "      <td>303.000000</td>\n",
       "      <td>13.180328</td>\n",
       "      <td>250.000000</td>\n",
       "      <td>10.000000</td>\n",
       "      <td>181.000000</td>\n",
       "      <td>56.000000</td>\n",
       "      <td>28.000000</td>\n",
       "      <td>9.000000</td>\n",
       "      <td>481.000000</td>\n",
       "    </tr>\n",
       "  </tbody>\n",
       "</table>\n",
       "</div>"
      ],
      "text/plain": [
       "             innings  current_score    ball_bowled            crr  \\\n",
       "count  425944.000000  425944.000000  425944.000000  425944.000000   \n",
       "mean        1.451881     139.103955     169.633886       4.872503   \n",
       "std         0.497680      66.449152      67.272752       1.082916   \n",
       "min         1.000000       7.000000      50.000000       0.608696   \n",
       "25%         1.000000      85.000000     111.000000       4.139241   \n",
       "50%         1.000000     131.000000     168.000000       4.813953   \n",
       "75%         2.000000     184.000000     225.000000       5.536481   \n",
       "max         2.000000     460.000000     303.000000      13.180328   \n",
       "\n",
       "           ball_left   wickets_left       last_ten   last_ten_dot  \\\n",
       "count  425944.000000  425944.000000  425944.000000  425944.000000   \n",
       "mean      130.366623       6.440098      50.135577      30.047462   \n",
       "std        67.271760       2.196893      15.070068       7.649626   \n",
       "min         0.000000       0.000000       6.000000       3.000000   \n",
       "25%        75.000000       5.000000      40.000000      25.000000   \n",
       "50%       132.000000       7.000000      49.000000      30.000000   \n",
       "75%       189.000000       8.000000      59.000000      35.000000   \n",
       "max       250.000000      10.000000     181.000000      56.000000   \n",
       "\n",
       "       last_ten_boundary  last_ten_wkts         runs_x  \n",
       "count      425944.000000  425944.000000  425944.000000  \n",
       "mean            4.811623       1.355051     246.450733  \n",
       "std             2.883729       1.162630      60.267883  \n",
       "min             0.000000       0.000000      43.000000  \n",
       "25%             3.000000       0.000000     209.000000  \n",
       "50%             4.000000       1.000000     248.000000  \n",
       "75%             6.000000       2.000000     287.000000  \n",
       "max            28.000000       9.000000     481.000000  "
      ]
     },
     "execution_count": 23,
     "metadata": {},
     "output_type": "execute_result"
    }
   ],
   "source": [
    "df.describe()"
   ]
  },
  {
   "cell_type": "code",
   "execution_count": 24,
   "id": "f5d0fa5f",
   "metadata": {},
   "outputs": [
    {
     "data": {
      "text/plain": [
       "innings              0\n",
       "batting_team         0\n",
       "bowling_team         0\n",
       "current_score        0\n",
       "ball_bowled          0\n",
       "crr                  0\n",
       "ball_left            0\n",
       "wickets_left         0\n",
       "last_ten             0\n",
       "last_ten_dot         0\n",
       "last_ten_boundary    0\n",
       "last_ten_wkts        0\n",
       "runs_x               0\n",
       "dtype: int64"
      ]
     },
     "execution_count": 24,
     "metadata": {},
     "output_type": "execute_result"
    }
   ],
   "source": [
    "df.isnull().sum()"
   ]
  },
  {
   "cell_type": "code",
   "execution_count": null,
   "id": "c5630a52",
   "metadata": {},
   "outputs": [],
   "source": [
    "df.to_csv('final_dataset.csv', index=False)"
   ]
  },
  {
   "cell_type": "code",
   "execution_count": null,
   "id": "c4610cef",
   "metadata": {},
   "outputs": [],
   "source": []
  }
 ],
 "metadata": {
  "kernelspec": {
   "display_name": "Python 3",
   "language": "python",
   "name": "python3"
  },
  "language_info": {
   "codemirror_mode": {
    "name": "ipython",
    "version": 3
   },
   "file_extension": ".py",
   "mimetype": "text/x-python",
   "name": "python",
   "nbconvert_exporter": "python",
   "pygments_lexer": "ipython3",
   "version": "3.12.7"
  }
 },
 "nbformat": 4,
 "nbformat_minor": 5
}
